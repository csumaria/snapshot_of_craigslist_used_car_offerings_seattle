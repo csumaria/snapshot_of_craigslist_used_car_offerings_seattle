{
 "cells": [
  {
   "cell_type": "markdown",
   "metadata": {},
   "source": [
    "This is a sample file that imports clean data as a Pickle file, removes unnecessary columns to: 1) Generate a Correlation heatmap; 2) Train the model after normalization with Ridge (Lasso, ElasticNet etc were also tested with the same code); 3) Tests the model with the trained model on train and test data; 4) Steps 2&3 are repeated with different degrees of polynomial complexity for features of interest."
   ]
  },
  {
   "cell_type": "code",
   "execution_count": 1,
   "metadata": {},
   "outputs": [
    {
     "name": "stderr",
     "output_type": "stream",
     "text": [
      "/home/chintan/anaconda3/lib/python3.6/site-packages/statsmodels/compat/pandas.py:56: FutureWarning: The pandas.core.datetools module is deprecated and will be removed in a future version. Please use the pandas.tseries module instead.\n",
      "  from pandas.core import datetools\n",
      "/home/chintan/anaconda3/lib/python3.6/site-packages/sklearn/cross_validation.py:44: DeprecationWarning: This module was deprecated in version 0.18 in favor of the model_selection module into which all the refactored classes and functions are moved. Also note that the interface of the new CV iterators are different from that of this module. This module will be removed in 0.20.\n",
      "  \"This module will be removed in 0.20.\", DeprecationWarning)\n"
     ]
    }
   ],
   "source": [
    "import pickle as pkl\n",
    "import scipy.stats as stats\n",
    "from itertools import product\n",
    "import numpy as np\n",
    "import seaborn as sns\n",
    "%matplotlib inline\n",
    "import pandas as pd\n",
    "import matplotlib.pyplot as plt\n",
    "import seaborn as sns\n",
    "import patsy\n",
    "import statsmodels.api as sm\n",
    "import statsmodels.formula.api as smf\n",
    "from sklearn.linear_model import LinearRegression\n",
    "from sklearn import metrics\n",
    "from sklearn.preprocessing import PolynomialFeatures\n",
    "from sklearn.preprocessing import StandardScaler\n",
    "from sklearn.pipeline import make_pipeline\n",
    "from sklearn.cross_validation import train_test_split\n",
    "from sklearn.linear_model import Ridge\n",
    "from sklearn.linear_model import Lasso\n",
    "from sklearn.metrics import mean_squared_error\n",
    "from sklearn.cross_validation import KFold\n",
    "import warnings\n",
    "warnings.filterwarnings('ignore')"
   ]
  },
  {
   "cell_type": "code",
   "execution_count": 2,
   "metadata": {
    "collapsed": true
   },
   "outputs": [],
   "source": [
    "with open('Data_cleaned.pkl', 'rb') as picklefile: \n",
    "    df1 = pkl.load(picklefile)"
   ]
  },
  {
   "cell_type": "code",
   "execution_count": 3,
   "metadata": {
    "collapsed": true
   },
   "outputs": [],
   "source": [
    "import patsy\n",
    "X1=patsy.dmatrix('Fuel',data=df1,return_type='dataframe')\n",
    "X2=patsy.dmatrix('Transmission',data=df1,return_type='dataframe')\n",
    "X3=patsy.dmatrix('Title',data=df1,return_type='dataframe')"
   ]
  },
  {
   "cell_type": "code",
   "execution_count": 6,
   "metadata": {
    "collapsed": true
   },
   "outputs": [],
   "source": [
    "def correlation_matrix(df):\n",
    "    from matplotlib import pyplot as plt\n",
    "    from matplotlib import cm as cm\n",
    "\n",
    "    fig = plt.figure()\n",
    "    ax1 = fig.add_subplot(111)\n",
    "    cmap = cm.get_cmap('jet', 30)\n",
    "    cax = ax1.imshow(df.corr(), interpolation=\"nearest\", cmap=cmap)\n",
    "    ax1.grid(True)\n",
    "    plt.title('Correlation Matrix Heatmap')\n",
    "    labels=['Odometer', 'Year', 'Fuel Type', 'Transmission','Rebuilt Title', 'Salvage Title', 'Price']\n",
    "    ax1.set_xticklabels(labels,fontsize=6)\n",
    "    ax1.set_yticklabels(labels,fontsize=6)\n",
    "    # Add colorbar, make sure to specify tick locations to match desired ticklabels\n",
    "    fig.colorbar(cax, ticks=[.75,.8,.85,.90,.95,1])\n",
    "    plt.show()"
   ]
  },
  {
   "cell_type": "code",
   "execution_count": 14,
   "metadata": {},
   "outputs": [
    {
     "data": {
      "image/png": "[encoded data removed]",
      "text/plain": [
       "<matplotlib.figure.Figure at 0x7fcb17889860>"
      ]
     },
     "metadata": {},
     "output_type": "display_data"
    },
    {
     "data": {
      "image/png": "[encoded data removed]",
      "text/plain": [
       "<matplotlib.figure.Figure at 0x7fcb177ed278>"
      ]
     },
     "metadata": {},
     "output_type": "display_data"
    }
   ],
   "source": [
    "y = df1['Price']\n",
    "import pandas as pd\n",
    "df2=pd.merge(df1, X1,left_index=True, right_index=True)\n",
    "df3=pd.merge(df2, X2,left_index=True, right_index=True)\n",
    "x=pd.merge(df3, X3,left_index=True, right_index=True)\n",
    "del x['Transmission']\n",
    "del x['Title']\n",
    "del x['Make']\n",
    "del x['Model']\n",
    "del x['Fuel']\n",
    "del x['Price']\n",
    "del x['Intercept_y']\n",
    "del x['Intercept']\n",
    "del x['Intercept_x']\n",
    "x['Price']=y\n",
    "# x.sample(10)\n",
    "x.columns=['Odometer', 'Year', 'Fuel Type', 'Transmission','Rebuilt Title', 'Salvage Title', 'Price']\n",
    "corr = x.corr()\n",
    "# plot the heatmap\n",
    "# cmap = sns.cubehelix_palette(start=1.6, light=0.8, as_cmap=True, reverse=True)\n",
    "# cmap=sns.cubehelix_palette(8, start=2, rot=0, dark=0, light=.95, as_cmap=True, reverse=True)\n",
    "cmap=sns.palplot(sns.color_palette(\"BrBG\", 7))\n",
    "\n",
    "\n",
    "fig, ax = plt.subplots(figsize=(4,3))         # Sample figsize in inches\n",
    "# sns.heatmap(df1.iloc[:, 1:6:], annot=True, linewidths=.5, ax=ax)\n",
    "ax.set_xticklabels(labels=corr.columns,rotation=90, ha='left')\n",
    "sns.heatmap(corr, annot=False, fmt=\"g\", cmap=cmap,ax=ax)\n",
    "# sns.heatmap(corr,xticklabels=corr.columns, yticklabels=corr.columns)\n",
    "# correlation_matrix(x)\n",
    "plt.savefig('heatmap_corr.png', format='png', dpi=1000,bbox_inches='tight')"
   ]
  },
  {
   "cell_type": "code",
   "execution_count": 68,
   "metadata": {
    "collapsed": true
   },
   "outputs": [],
   "source": [
    "# 'for' loop over the entire dataset with price as the dependant variable (versus quantitative and categorical variables)\n",
    "r2_tr_by_degree=[]\n",
    "r2_te_by_degree=[]\n",
    "sse_tr_by_degree=[]\n",
    "sse_te_by_degree=[]\n",
    "degrees=[]\n",
    "for deg in range(1,15):\n",
    "    degrees.append(deg)\n",
    "    x_poly_features=df1[['Odometer','Year']]\n",
    "    p = PolynomialFeatures(deg)\n",
    "    XP = p.fit_transform(x_poly_features)\n",
    "    new_df=pd.DataFrame(XP)\n",
    "    s = StandardScaler()\n",
    "    XS = s.fit_transform(new_df)\n",
    "    new_df=pd.DataFrame(XS)\n",
    "    indexes=list(y.index)\n",
    "    new_df.set_index([indexes],inplace=True)\n",
    "    column_names=[]\n",
    "    for x in range(len(new_df.columns)):\n",
    "        column_names.append('X'+str(x))\n",
    "    new_df.columns=column_names\n",
    "    new_df['Price']=y\n",
    "    new_df=pd.merge(new_df, X1,left_index=True, right_index=True)\n",
    "    new_df=pd.merge(new_df, X2,left_index=True, right_index=True)\n",
    "    new_df=pd.merge(new_df, X3,left_index=True, right_index=True)\n",
    "    new_df.rename(columns={'Price':'P','Intercept_x':'IX','Fuel[T.other]':'Fuel_other','Intercept_y':'IY','Transmission[T.manual]':'Trans_manual','Intercept':'IZ','Title[T.rebuilt]':'Title_rebuilt','Title[T.salvage or missing]':'Title_sal_or_mis'},inplace=True)\n",
    "    lr_str='P ~ X0'\n",
    "    y_skl=new_df['P']\n",
    "    x_skl=new_df\n",
    "    del x_skl['P']\n",
    "    x_skl_train, x_skl_test, y_skl_train, y_skl_test = train_test_split(x_skl, y_skl, test_size=0.2,random_state=22)\n",
    "    # alphas = [1e-14, 1e-8, 1e-2, 100]\n",
    "    alpha=1e-8\n",
    "#     sse_tr_Ridge = []\n",
    "#     sse_te_Ridge = []\n",
    "#     r2_tr_Ridge = []\n",
    "#     r2_te_Ridge = []\n",
    "    # for alpha in alphas:\n",
    "#     lr=LinearRegression()\n",
    "    lr=Ridge(alpha=alpha)\n",
    "#     lr=Lasso(alpha=alpha)\n",
    "    lr.fit(x_skl_train, y_skl_train)\n",
    "    lr.score(x_skl_test,y_skl_test)\n",
    "    r2_tr_by_degree.append(lr.score(x_skl_train,y_skl_train))\n",
    "    r2_te_by_degree.append(lr.score(x_skl_test,y_skl_test))\n",
    "    sse_tr_by_degree.append(mean_squared_error(y_skl_train, lr.predict(x_skl_train)))\n",
    "    sse_te_by_degree.append(mean_squared_error(y_skl_test, lr.predict(x_skl_test)))\n",
    "    \n",
    "# sse_tr_Ridge.append(mean_squared_error(y_skl_train, lr.predict(x_skl_train)))\n",
    "# sse_te_Ridge.append(mean_squared_error(y_skl_test, lr.predict(x_skl_test)))\n",
    "# r2_tr_Ridge.append(lr.score(x_skl_train,y_skl_train))\n",
    "# r2_te_Ridge.append(lr.score(x_skl_test,y_skl_test))"
   ]
  },
  {
   "cell_type": "code",
   "execution_count": 69,
   "metadata": {},
   "outputs": [
    {
     "data": {
      "text/plain": [
       "<matplotlib.legend.Legend at 0x7fd246f41748>"
      ]
     },
     "execution_count": 69,
     "metadata": {},
     "output_type": "execute_result"
    },
    {
     "data": {
      "image/png": "[encoded data removed]",
      "text/plain": [
       "<matplotlib.figure.Figure at 0x7fd24f378908>"
      ]
     },
     "metadata": {},
     "output_type": "display_data"
    }
   ],
   "source": [
    "plt.plot(degrees,r2_tr_by_degree,label='train',c='r')\n",
    "plt.plot(degrees,r2_te_by_degree,label='test',c='b')\n",
    "plt.ylim(0,1)\n",
    "plt.legend()"
   ]
  },
  {
   "cell_type": "code",
   "execution_count": 70,
   "metadata": {},
   "outputs": [
    {
     "data": {
      "text/plain": [
       "<matplotlib.legend.Legend at 0x7fd246ed3e80>"
      ]
     },
     "execution_count": 70,
     "metadata": {},
     "output_type": "execute_result"
    },
    {
     "data": {
      "image/png": "[encoded data removed]",
      "text/plain": [
       "<matplotlib.figure.Figure at 0x7fd246f8e860>"
      ]
     },
     "metadata": {},
     "output_type": "display_data"
    }
   ],
   "source": [
    "plt.semilogy(degrees,sse_tr_by_degree,label='train',c='r')\n",
    "plt.semilogy(degrees,sse_te_by_degree,label='test',c='b')\n",
    "plt.legend()"
   ]
  },
  {
   "cell_type": "code",
   "execution_count": 71,
   "metadata": {
    "collapsed": true
   },
   "outputs": [],
   "source": [
    "# plt.semilogx(alphas,sse_tr_Ridge,label='train',c='r')\n",
    "# plt.semilogx(alphas,sse_te_Ridge,label='test',c='b')\n",
    "# plt.legend()"
   ]
  },
  {
   "cell_type": "code",
   "execution_count": 72,
   "metadata": {
    "collapsed": true
   },
   "outputs": [],
   "source": [
    "# plt.semilogx(alphas,r2_tr_Ridge,label='train',c='r')\n",
    "# plt.semilogx(alphas,r2_te_Ridge,label='test',c='b')\n",
    "# plt.ylim(0,1)\n",
    "# plt.legend()"
   ]
  },
  {
   "cell_type": "code",
   "execution_count": null,
   "metadata": {
    "collapsed": true
   },
   "outputs": [],
   "source": []
  }
 ],
 "metadata": {
  "kernelspec": {
   "display_name": "Python 3",
   "language": "python",
   "name": "python3"
  },
  "language_info": {
   "codemirror_mode": {
    "name": "ipython",
    "version": 3
   },
   "file_extension": ".py",
   "mimetype": "text/x-python",
   "name": "python",
   "nbconvert_exporter": "python",
   "pygments_lexer": "ipython3",
   "version": "3.6.2"
  }
 },
 "nbformat": 4,
 "nbformat_minor": 2
}
